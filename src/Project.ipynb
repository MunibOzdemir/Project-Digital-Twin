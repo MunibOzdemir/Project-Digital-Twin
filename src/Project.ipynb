{
 "cells": [
  {
   "cell_type": "code",
   "execution_count": null,
   "id": "fc2daed4",
   "metadata": {},
   "outputs": [],
   "source": [
    "import satellite_images_nso.api.nso_georegion as nso\n",
    "import satellite_images_nso.api.sat_manipulator as sat_manipulator\n",
    "import matplotlib.pyplot as plt\n",
    "import rasterio\n",
    "import numpy as np\n",
    "from dotenv import load_dotenv\n",
    "import os\n",
    "from rasterio.warp import reproject, Resampling\n",
    "from tools import *"
   ]
  },
  {
   "cell_type": "code",
   "execution_count": null,
   "id": "1206122a",
   "metadata": {},
   "outputs": [],
   "source": [
    "load_dotenv()\n",
    "\n",
    "user_name = os.getenv('API_USERNAME')\n",
    "user_password = os.getenv('API_PASSWORD')\n",
    "\n",
    "# Fetch the geojson file for the region of interest\n",
    "path_geojson = get_geojson_path('alkmaar.geojson')\n",
    "\n",
    "# Get the current working directory (useful in Jupyter notebooks)\n",
    "current_dir = os.getcwd()  # This will give you the current working directory\n",
    "parent_dir = os.path.join(current_dir, '..')  # Parent directory\n",
    "folder_data = str(os.path.join(parent_dir, 'data'))  # Point to the 'data' folder"
   ]
  },
  {
   "cell_type": "code",
   "execution_count": null,
   "id": "fdcbb255",
   "metadata": {},
   "outputs": [],
   "source": [
    "# The first parameter is the path to the geojson, the second the map where the cropped satellite data will be downloaded, the third is your NSO username and the last your NSO password.\n",
    "georegion = nso.nso_georegion(\n",
    "    path_to_geojson=path_geojson,\n",
    "    output_folder=folder_data,\n",
    "    username=user_name,\n",
    "    password=user_password,\n",
    ")\n"
   ]
  },
  {
   "cell_type": "markdown",
   "id": "9a1037fd",
   "metadata": {},
   "source": [
    "# 2019"
   ]
  },
  {
   "cell_type": "code",
   "execution_count": null,
   "id": "f46c94f4",
   "metadata": {},
   "outputs": [],
   "source": [
    "# This method fetches all the download links with all the satellite images the NSO has which contain the region in the given geojson.\n",
    "# Max_diff parameters represents the amount of percentage the selected region has to be in the satellite image.\n",
    "# So 1 is the the selected region has to be fully in the satellite images while 0.7 donates only 70% of the selected region is in the\n",
    "links = georegion.retrieve_download_links(\n",
    "    max_diff=0.5, start_date=\"2019-05-01\", end_date=\"2019-10-01\"\n",
    ")\n",
    "\n",
    "# Inspect the links\n",
    "print(f\"Found links: {len(links)}\")\n",
    "for link in links:\n",
    "    print(link)"
   ]
  },
  {
   "cell_type": "code",
   "execution_count": null,
   "id": "4360c169",
   "metadata": {},
   "outputs": [],
   "source": [
    "# This example filters out only 200 cm RGB Infrared Superview satellite imagery in the spring from all the links\n",
    "season = \"Summer\"\n",
    "links_group = []\n",
    "for link in links:\n",
    "    # Use 200 cm RGB Infrared Superview satellite imagery to get faster download links\n",
    "    if \"SV\" in link and \"200cm\" in link and \"RGBI\" in link:\n",
    "        if (\n",
    "            sat_manipulator.get_season_for_month(\n",
    "                int(link.split(\"/\")[len(link.split(\"/\")) - 1][4:6])\n",
    "            )[0]\n",
    "            == season\n",
    "        ):\n",
    "            links_group.append(link)\n",
    "\n",
    "# Inspect the filtered links\n",
    "print(f\"Found links in the group: {len(links_group)}\")\n",
    "for link in links_group:\n",
    "    print(link)"
   ]
  },
  {
   "cell_type": "code",
   "execution_count": null,
   "id": "e765d78a",
   "metadata": {},
   "outputs": [],
   "source": [
    "# Downloads a satellite image from the NSO, makes a crop out of it so it fits the geojson region and calculates the NVDI index.\n",
    "# The output will stored in the output folder.\n",
    "# The parameters are : link, delete_zip_file = False, delete_source_files = True,  plot=True, in_image_cloud_percentage = False,  add_ndvi_band = False, add_height_band = False\n",
    "# description of these parameters can be found in the code.\n",
    "georegion.execute_link(links_group[0],  delete_zip_file=True, plot=False, add_ndvi_band=True)"
   ]
  },
  {
   "cell_type": "code",
   "execution_count": null,
   "id": "7fb0b07f",
   "metadata": {},
   "outputs": [],
   "source": [
    "tif_path_2019 = get_tif_path()\n",
    "print(f\"Most recent TIFF file: {tif_path_2019}\")\n",
    "\n",
    "# Open the TIFF file and read the bands\n",
    "with rasterio.open(tif_path_2019) as src:\n",
    "    red = src.read(3).astype(np.float32)\n",
    "    green = src.read(2).astype(np.float32)\n",
    "    blue = src.read(1).astype(np.float32)\n",
    "    nir= src.read(4).astype(np.float32)\n",
    "\n",
    "    # Normalize the bands to the range [0, 1]\n",
    "    max_val = max(red.max(), green.max(), blue.max())\n",
    "    red /= max_val\n",
    "    green /= max_val\n",
    "    blue /= max_val\n",
    "    nir /= max_val\n",
    "\n",
    "    # Stack the bands to create an RGB image\n",
    "    rgb = np.stack((red, green, blue), axis=-1)\n",
    "\n",
    "    print(f\"Number of bands: {src.count}\")\n",
    "\n",
    "# Visualize the RGB image\n",
    "plt.figure(figsize=(10, 10))\n",
    "plt.imshow(rgb)\n",
    "plt.title(\"RGB Satellietbeeld (geschaald)\")\n",
    "plt.axis(\"off\")\n",
    "plt.show()"
   ]
  },
  {
   "cell_type": "markdown",
   "id": "10fbab7c",
   "metadata": {},
   "source": [
    "# 2022"
   ]
  },
  {
   "cell_type": "code",
   "execution_count": null,
   "id": "8fc36d04",
   "metadata": {},
   "outputs": [],
   "source": [
    "# This method fetches all the download links with all the satellite images the NSO has which contain the region in the given geojson.\n",
    "# Max_diff parameters represents the amount of percentage the selected region has to be in the satellite image.\n",
    "# So 1 is the the selected region has to be fully in the satellite images while 0.7 donates only 70% of the selected region is in the\n",
    "links = georegion.retrieve_download_links(\n",
    "    max_diff=0.5, start_date=\"2022-05-01\", end_date=\"2022-10-01\"\n",
    ")\n",
    "print(f\"Aantal gevonden links: {len(links)}\")\n",
    "for link in links:\n",
    "    print(link)"
   ]
  },
  {
   "cell_type": "code",
   "execution_count": null,
   "id": "7bb9a3dc",
   "metadata": {},
   "outputs": [],
   "source": [
    "# This example filters out only 50 cm RGB Infrared Superview satellite imagery in the summer from all the links\n",
    "season = \"Summer\"\n",
    "links_group = []\n",
    "for link in links:\n",
    "    # Gebruik hier 200cm om snel een beeld te krijgen\n",
    "    if \"SV\" in link and \"200cm\" in link and \"RGBI\" in link:\n",
    "        if (\n",
    "            sat_manipulator.get_season_for_month(\n",
    "                int(link.split(\"/\")[len(link.split(\"/\")) - 1][4:6])\n",
    "            )[0]\n",
    "            == season\n",
    "        ):\n",
    "            links_group.append(link)\n",
    "\n",
    "print(f\"Aantal gevonden links in de groep: {len(links_group)}\")\n",
    "for link in links_group:\n",
    "    print(link)"
   ]
  },
  {
   "cell_type": "code",
   "execution_count": null,
   "id": "02b0a389",
   "metadata": {},
   "outputs": [],
   "source": [
    "# Downloads a satellite image from the NSO, makes a crop out of it so it fits the geojson region and calculates the NVDI index.\n",
    "# The output will stored in the output folder.\n",
    "# The parameters are : link, delete_zip_file = False, delete_source_files = True,  plot=True, in_image_cloud_percentage = False,  add_ndvi_band = False, add_height_band = False\n",
    "# description of these parameters can be found in the code.\n",
    "georegion.execute_link(links_group[0],  delete_zip_file=True, plot=False, add_ndvi_band=True, )"
   ]
  },
  {
   "cell_type": "code",
   "execution_count": null,
   "id": "ea346623",
   "metadata": {},
   "outputs": [],
   "source": [
    "tif_path_2022 = get_tif_path()\n",
    "print(f\"Most recent TIFF file: {tif_path_2022}\")\n",
    "\n",
    "# Open the TIFF file and read the bands\n",
    "with rasterio.open(tif_path_2022) as src:\n",
    "    red = src.read(3).astype(np.float32)\n",
    "    green = src.read(2).astype(np.float32)\n",
    "    blue = src.read(1).astype(np.float32)\n",
    "    nir= src.read(4).astype(np.float32)\n",
    "\n",
    "    # Normalize the bands to the range [0, 1]\n",
    "    max_val = max(red.max(), green.max(), blue.max())\n",
    "    red /= max_val\n",
    "    green /= max_val\n",
    "    blue /= max_val\n",
    "    nir /= max_val\n",
    "\n",
    "    # Stack the bands to create an RGB image\n",
    "    rgb = np.stack((red, green, blue), axis=-1)\n",
    "\n",
    "    print(f\"Number of bands: {src.count}\")\n",
    "\n",
    "# Visualize the RGB image\n",
    "plt.figure(figsize=(10, 10))\n",
    "plt.imshow(rgb)\n",
    "plt.title(\"RGB Satellietbeeld (geschaald)\")\n",
    "plt.axis(\"off\")\n",
    "plt.show()"
   ]
  },
  {
   "cell_type": "markdown",
   "id": "98fd0b05",
   "metadata": {},
   "source": [
    "# Next step"
   ]
  },
  {
   "cell_type": "code",
   "execution_count": null,
   "id": "df747b99",
   "metadata": {},
   "outputs": [],
   "source": [
    "# Simple change detection - add this to your \"Next step\" cell\n",
    "print(\"Comparing 2019 vs 2022 satellite images...\")\n",
    "\n",
    "change_data = detect_visual_changes_proper(tif_path_2019, tif_path_2022)\n",
    "\n",
    "# # Open both images and read RGB bands\n",
    "# with rasterio.open(tif_path_2019) as src1:\n",
    "#     red1 = src1.read(3).astype(np.float32)\n",
    "#     green1 = src1.read(2).astype(np.float32) \n",
    "#     blue1 = src1.read(1).astype(np.float32)\n",
    "\n",
    "# with rasterio.open(tif_path_2022) as src2:\n",
    "#     red2 = src2.read(3).astype(np.float32)\n",
    "#     green2 = src2.read(2).astype(np.float32)\n",
    "#     blue2 = src2.read(1).astype(np.float32)\n",
    "\n",
    "# red1_norm = normalize(red1)\n",
    "# green1_norm = normalize(green1)  \n",
    "# blue1_norm = normalize(blue1)\n",
    "\n",
    "# red2_norm = normalize(red2)\n",
    "# green2_norm = normalize(green2)\n",
    "# blue2_norm = normalize(blue2)\n",
    "\n",
    "# # Calculate simple difference\n",
    "# red_diff = red2_norm - red1_norm\n",
    "# green_diff = green2_norm - green1_norm\n",
    "# blue_diff = blue2_norm - blue1_norm\n",
    "\n",
    "# # Overall change magnitude\n",
    "# change_magnitude = np.sqrt(red_diff**2 + green_diff**2 + blue_diff**2)\n",
    "\n",
    "# Plot the changes\n",
    "plt.figure(figsize=(15, 5))\n",
    "\n",
    "plt.subplot(1, 3, 1)\n",
    "plt.imshow(np.stack([change_data['red1_norm'], change_data['green1_norm'], change_data['blue1_norm']], axis=-1))\n",
    "plt.title('2019 Satellietbeeld')\n",
    "plt.axis('off')\n",
    "\n",
    "plt.subplot(1, 3, 2)\n",
    "plt.imshow(np.stack([change_data['red2_norm'], change_data['green2_norm'], change_data['blue2_norm']], axis=-1))\n",
    "plt.title('2022 Satellietbeeld')\n",
    "plt.axis('off')\n",
    "\n",
    "plt.subplot(1, 3, 3)\n",
    "plt.imshow(change_data['change_magnitude'], cmap='Reds', vmin=0, vmax=0.5)\n",
    "plt.colorbar(label='Verandering')\n",
    "plt.title('Veranderingsdetectie\\n(Rood = meer verandering)')\n",
    "plt.axis('off')\n",
    "\n",
    "plt.tight_layout()\n",
    "plt.show()\n",
    "\n",
    "print(f\"Gemiddelde verandering: {change_data['change_magnitude'].mean():.3f}\")\n",
    "print(f\"Maximale verandering: {change_data['change_magnitude'].max():.3f}\")"
   ]
  },
  {
   "cell_type": "markdown",
   "id": "868be280",
   "metadata": {},
   "source": [
    "# Misschien niet nodig"
   ]
  },
  {
   "cell_type": "code",
   "execution_count": null,
   "id": "41a5b4d9",
   "metadata": {},
   "outputs": [],
   "source": [
    "# Calculate NDVI and visualize it\n",
    "# NDVI = (NIR - Red) / (NIR + Red)\n",
    "# NIR is the near-infrared band, and Red is the red band.\n",
    "# The NDVI value ranges from -1 to 1, where higher values indicate healthier vegetation.\n",
    "ndvi = (nir - red) / (nir + red + 1e-10)  # +1e-10 to avoid division by zero\n",
    "plt.figure(figsize=(10, 10))\n",
    "plt.imshow(ndvi, cmap='RdYlGn', vmin=-1, vmax=1)\n",
    "plt.colorbar(label='NDVI waarde')\n",
    "plt.title('NDVI berekening')\n",
    "plt.axis('off')\n",
    "plt.show()"
   ]
  },
  {
   "cell_type": "code",
   "execution_count": null,
   "id": "6e8b7a20",
   "metadata": {},
   "outputs": [],
   "source": [
    "from web_export import export_for_web, create_simple_server\n",
    "\n",
    "bounds_info = export_for_web(tif_path, path_geojson) #change tif path to what you want as new layer\n",
    "server_url = create_simple_server(folder_data)\n",
    "print(f\"Server running at: {server_url}\")"
   ]
  }
 ],
 "metadata": {
  "kernelspec": {
   "display_name": "satellite_nso_personal",
   "language": "python",
   "name": "python3"
  },
  "language_info": {
   "codemirror_mode": {
    "name": "ipython",
    "version": 3
   },
   "file_extension": ".py",
   "mimetype": "text/x-python",
   "name": "python",
   "nbconvert_exporter": "python",
   "pygments_lexer": "ipython3",
   "version": "3.12.11"
  }
 },
 "nbformat": 4,
 "nbformat_minor": 5
}
