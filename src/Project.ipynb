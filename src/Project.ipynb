{
 "cells": [
  {
   "cell_type": "code",
   "execution_count": null,
   "id": "fc2daed4",
   "metadata": {},
   "outputs": [],
   "source": [
    "import satellite_images_nso.api.nso_georegion as nso\n",
    "import satellite_images_nso.api.sat_manipulator as sat_manipulator\n",
    "import matplotlib.pyplot as plt\n",
    "import rasterio\n",
    "import numpy as np\n",
    "from dotenv import load_dotenv\n",
    "import tools import get_geojson_path\n",
    "import os"
   ]
  },
  {
   "cell_type": "code",
   "execution_count": null,
   "id": "1206122a",
   "metadata": {},
   "outputs": [],
   "source": [
    "load dotenv()\n",
    "\n",
    "user_name = os.getenv('API_USERNAME')\n",
    "user_password = os.getenv('API_PASSWORD')\n",
    "\n",
    "# Fetch the geojson file for the region of interest\n",
    "path_geojson = get_geojson_path('alkmaar.geojson')\n",
    "\n",
    "# Define the directory you want to point to\n",
    "current_dir = os.path.dirname(__file__)  # Get the directory of the current script\n",
    "parent_dir = os.path.join(current_dir, '..')  # Parent directory\n",
    "folder_data = os.path.join(parent_dir, 'data')  # Point to the 'data' folder"
   ]
  },
  {
   "cell_type": "code",
   "execution_count": null,
   "id": "fdcbb255",
   "metadata": {},
   "outputs": [],
   "source": [
    "# The first parameter is the path to the geojson, the second the map where the cropped satellite data will be downloaded, the third is your NSO username and the last your NSO password.\n",
    "georegion = nso.nso_georegion(\n",
    "    path_to_geojson=path_geojson,\n",
    "    output_folder=folder_data,\n",
    "    username=user_name,\n",
    "    password=user_password,\n",
    ")\n"
   ]
  },
  {
   "cell_type": "code",
   "execution_count": null,
   "id": "f46c94f4",
   "metadata": {},
   "outputs": [],
   "source": [
    "# This method fetches all the download links with all the satellite images the NSO has which contain the region in the given geojson.\n",
    "# Max_diff parameters represents the amount of percentage the selected region has to be in the satellite image.\n",
    "# So 1 is the the selected region has to be fully in the satellite images while 0.7 donates only 70% of the selected region is in the\n",
    "links = georegion.retrieve_download_links(\n",
    "    max_diff=0.5, start_date=\"2022-01-01\", end_date=\"2022-04-01\"\n",
    ")\n",
    "\n",
    "# Inspect the links\n",
    "print(f\"Found links: {len(links)}\")\n",
    "for link in links:\n",
    "    print(link)"
   ]
  },
  {
   "cell_type": "code",
   "execution_count": null,
   "id": "4360c169",
   "metadata": {},
   "outputs": [],
   "source": [
    "# This example filters out only 200 cm RGB Infrared Superview satellite imagery in the spring from all the links\n",
    "season = \"Spring\"\n",
    "links_group = []\n",
    "for link in links:\n",
    "    # Use 200 cm RGB Infrared Superview satellite imagery to get faster download links\n",
    "    if \"SV\" in link and \"200cm\" in link and \"RGBI\" in link:\n",
    "        if (\n",
    "            sat_manipulator.get_season_for_month(\n",
    "                int(link.split(\"/\")[len(link.split(\"/\")) - 1][4:6])\n",
    "            )[0]\n",
    "            == season\n",
    "        ):\n",
    "            links_group.append(link)\n",
    "\n",
    "# Inspect the filtered links\n",
    "print(f\"Found links in the group: {len(links_group)}\")\n",
    "for link in links_group:\n",
    "    print(link)"
   ]
  }
 ],
 "metadata": {
  "kernelspec": {
   "display_name": "satellite",
   "language": "python",
   "name": "python3"
  },
  "language_info": {
   "codemirror_mode": {
    "name": "ipython",
    "version": 3
   },
   "file_extension": ".py",
   "mimetype": "text/x-python",
   "name": "python",
   "nbconvert_exporter": "python",
   "pygments_lexer": "ipython3",
   "version": "3.12.11"
  }
 },
 "nbformat": 4,
 "nbformat_minor": 5
}
